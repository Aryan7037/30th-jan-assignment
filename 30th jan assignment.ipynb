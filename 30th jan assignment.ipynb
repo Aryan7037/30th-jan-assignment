{
 "cells": [
  {
   "cell_type": "raw",
   "id": "7bc4df8e-60fd-4fa7-824d-e4519e213c81",
   "metadata": {
    "tags": []
   },
   "source": [
    "# QUESTION 1 write a program to accept the percentage from the user and display the grade according to the following creatria\n",
    "\n",
    "   #marks                grade\n",
    "   # >90                   A\n",
    "   #>80 and <=90          B\n",
    "   #>=60 and <=80         C\n",
    "   #below 60              D"
   ]
  },
  {
   "cell_type": "code",
   "execution_count": 8,
   "id": "8b1d3332-8fcd-4c7e-a879-cf6cc784bf61",
   "metadata": {},
   "outputs": [
    {
     "name": "stdin",
     "output_type": "stream",
     "text": [
      "enter your marks 65\n"
     ]
    },
    {
     "name": "stdout",
     "output_type": "stream",
     "text": [
      "C\n"
     ]
    }
   ],
   "source": [
    "### ANSWER 1\n",
    "marks = int(input(\"enter your marks\"))\n",
    "if marks >90 :\n",
    "    print(\"A\")\n",
    "elif marks >80 and marks <=90 :\n",
    "    print(\"B\")\n",
    "elif marks >=60 and marks <=80 :\n",
    "    print(\"C\")\n",
    "else :\n",
    "    print(\"d\")"
   ]
  },
  {
   "cell_type": "raw",
   "id": "f223795b-bdb2-4b5c-ae86-7cfaa7f78e33",
   "metadata": {},
   "source": [
    "### QUESTION 2\n",
    "''' write a program to accept the cost price of bike and display the road tax to be paid according to the following creatria\n",
    "\n",
    "    tax                 cost price(in Rs)\n",
    "    15%                    >100000\n",
    "    10%                    >50000 and <=100000\n",
    "    5%                     <=50000'''"
   ]
  },
  {
   "cell_type": "code",
   "execution_count": 14,
   "id": "75a0794e-01a8-4f2c-b8b6-b91faf8434f8",
   "metadata": {},
   "outputs": [
    {
     "name": "stdin",
     "output_type": "stream",
     "text": [
      "enter your 150000\n"
     ]
    },
    {
     "name": "stdout",
     "output_type": "stream",
     "text": [
      "15%\n"
     ]
    }
   ],
   "source": [
    "### ANSWER 2\n",
    "cost = int(input(\"enter your\"))\n",
    "if cost  >100000 :\n",
    "    print(\"15%\")\n",
    "elif cost  >50000 and cost <=100000 :\n",
    "    print(\"10%\")\n",
    "else  :\n",
    "    print(\"5%\")"
   ]
  },
  {
   "cell_type": "raw",
   "id": "ad56e3c6-a8c8-4087-89b6-24cff2f7a454",
   "metadata": {},
   "source": [
    "### QUESTION 3\n",
    "''' accept any city from the user and display the monument of that city\n",
    "    \n",
    "    City                  Monument\n",
    "    Delhi                 Red Fort\n",
    "    Agra                  Taj Mahal\n",
    "    Jaipur                Jal Mahal'''"
   ]
  },
  {
   "cell_type": "code",
   "execution_count": 1,
   "id": "2f5c1066-c4c4-41e0-9520-6c15736e862f",
   "metadata": {},
   "outputs": [
    {
     "name": "stdin",
     "output_type": "stream",
     "text": [
      "enter your city Agra\n"
     ]
    },
    {
     "name": "stdout",
     "output_type": "stream",
     "text": [
      "Taj Mahal\n"
     ]
    }
   ],
   "source": [
    "### ANSWER 3\n",
    "City = str(input(\"enter your city\"))\n",
    "if City == \"Delhi\" :\n",
    "    print(\"Red Fort\")\n",
    "elif City == \"Agra\" :\n",
    "    print(\"Taj Mahal\")\n",
    "else :\n",
    "    print(\"Jal Mahal\")"
   ]
  },
  {
   "cell_type": "raw",
   "id": "7d9672c3-9f24-4546-9c92-4a77749643f9",
   "metadata": {},
   "source": [
    "### QUESTION 4\n",
    "''' check how many times a given number can be divided by 3 before it is less than or equal to 10''' "
   ]
  },
  {
   "cell_type": "code",
   "execution_count": 33,
   "id": "6cad6e68-2f10-4261-b1f2-0a713378a3e8",
   "metadata": {},
   "outputs": [],
   "source": [
    "### ANSWER 4"
   ]
  },
  {
   "cell_type": "code",
   "execution_count": 34,
   "id": "1a023bb9-6e58-410a-b849-d0a67b465d13",
   "metadata": {},
   "outputs": [
    {
     "data": {
      "text/plain": [
       "range(0, 31)"
      ]
     },
     "execution_count": 34,
     "metadata": {},
     "output_type": "execute_result"
    }
   ],
   "source": [
    "range(31)\n",
    "    "
   ]
  },
  {
   "cell_type": "code",
   "execution_count": 35,
   "id": "4d0cbc13-377c-4c81-bbf3-774560266045",
   "metadata": {},
   "outputs": [
    {
     "data": {
      "text/plain": [
       "[0, 3, 6, 9, 12, 15, 18, 21, 24, 27, 30]"
      ]
     },
     "execution_count": 35,
     "metadata": {},
     "output_type": "execute_result"
    }
   ],
   "source": [
    "list(range(0, 31,3))"
   ]
  },
  {
   "cell_type": "code",
   "execution_count": 2,
   "id": "a2139a4c-ecbb-4087-8a2b-051261b830f6",
   "metadata": {},
   "outputs": [
    {
     "data": {
      "text/plain": [
       "[0.0, 1.0, 2.0, 3.0, 4.0, 5.0, 6.0, 7.0, 8.0, 9.0, 10.0]"
      ]
     },
     "execution_count": 2,
     "metadata": {},
     "output_type": "execute_result"
    }
   ],
   "source": [
    "l1=[]\n",
    "for i in list(range(0, 31,3)) :\n",
    "     l1.append(i/3)\n",
    "l1    "
   ]
  },
  {
   "cell_type": "code",
   "execution_count": null,
   "id": "5e410738-e470-41c2-ac90-dc003062fe56",
   "metadata": {},
   "outputs": [],
   "source": []
  }
 ],
 "metadata": {
  "kernelspec": {
   "display_name": "Python 3 (ipykernel)",
   "language": "python",
   "name": "python3"
  },
  "language_info": {
   "codemirror_mode": {
    "name": "ipython",
    "version": 3
   },
   "file_extension": ".py",
   "mimetype": "text/x-python",
   "name": "python",
   "nbconvert_exporter": "python",
   "pygments_lexer": "ipython3",
   "version": "3.10.8"
  }
 },
 "nbformat": 4,
 "nbformat_minor": 5
}
